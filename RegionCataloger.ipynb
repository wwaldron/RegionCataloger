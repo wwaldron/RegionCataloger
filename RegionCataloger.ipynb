{
 "cells": [
  {
   "cell_type": "markdown",
   "id": "f9eed442",
   "metadata": {},
   "source": [
    "# Region Cataloger\n",
    "\n",
    "This notebook takes a DS9 region file and calculates the photometry in the regions\n",
    "for the specified image types.\n",
    "\n",
    "## What this Notebook Does\n",
    "\n",
    "The gist of the notebook is as follows:\n",
    "\n",
    "1. A set of *HST* filters is read on which the photometry will be measured.\n",
    "1. A DS9 region file is read for which the photometry will be measured.\n",
    "1. Each of these are passed to the `RegionCataloger` class which does the following.\n",
    "    1. Ping the [MAST Database](https://mast.stsci.edu/portal/Mashup/Clients/Mast/Portal.html) for all the images that contain the associated region.\n",
    "    1. Downloads the discovered images.\n",
    "    1. Calculates the photometry for each region on each discovered image.\n",
    "\n",
    "## User Guide\n",
    "\n",
    "As a user, you will need to:\n",
    "\n",
    "1. Do not change any of the code except in the indicated cell below.\n",
    "1. If running on Google Colab, you will need to uncomment and run the Pre-Processing cell below.\n",
    "1. Define a DS9 Region file of Nucleated Dwarfs to be measured.\n",
    "    1. The region file only needs to be created with one filter.\n",
    "    1. The regions must all be *Circles*.\n",
    "    1. **The regions should be labeled with text.** See/load the example region file.\n",
    "    1. The region file should be saved in DS9 format in world (not image) coordinates (preferably with the ICRS system).\n",
    "1. Add/Upload the region file to the directory where the notebook exists.\n",
    "1. Specify the name of the region file in the appropriate cell below.\n",
    "1. If needed change the filter set that is listed below.\n",
    "1. Run the notebook and add the results to the Google Sheet."
   ]
  },
  {
   "cell_type": "markdown",
   "id": "6ce4b66a",
   "metadata": {},
   "source": [
    "### Pre-Processing Directives\n",
    "\n",
    "<code style=\"background:yellow;color:black\">If running on Google Colab</code>, uncomment (remove the `# `) the line below and run the line."
   ]
  },
  {
   "cell_type": "code",
   "execution_count": 1,
   "id": "ccbb4966",
   "metadata": {},
   "outputs": [],
   "source": [
    "# %pip install astropy astroquery regions"
   ]
  },
  {
   "cell_type": "markdown",
   "id": "2e9f30bb",
   "metadata": {},
   "source": [
    "<div class=\"alert alert-block alert-warning\"><b>Warning:</b> Do not change any of the code below except in the single identified cell.</div>\n",
    "\n",
    "## Imports\n",
    "\n",
    "Here is a list of what is imported below:\n",
    "\n",
    "- `pathlib`: Tells Python where files are / handles reading and making folders.\n",
    "- `functools`: Caches class method results.\n",
    "- `typing`: Tells Python what should be coming in and out of Python functions.\n",
    "- `tqdm`: pretty progress bars.\n",
    "- `warnings`: Controls what warnings get printed.\n",
    "- `numpy`: Numerical Processing\n",
    "- `astropy`: Anything that has to do with Astronomical processing and file reading.\n",
    "- `astroquery`: Reading files from Astro databases.\n",
    "- `regions`: Reads/converts DS9 Region Files\n",
    "- `photutils`: Performs photometry."
   ]
  },
  {
   "cell_type": "code",
   "execution_count": 50,
   "id": "caeee2ee",
   "metadata": {},
   "outputs": [],
   "source": [
    "# Python Imports\n",
    "from pathlib import Path\n",
    "from functools import lru_cache\n",
    "from typing import Union, Iterable, List, NoReturn\n",
    "from tqdm.notebook import tqdm\n",
    "from warnings import catch_warnings, simplefilter\n",
    "from time import sleep"
   ]
  },
  {
   "cell_type": "code",
   "execution_count": 3,
   "id": "56348971",
   "metadata": {},
   "outputs": [],
   "source": [
    "# Numerical Imports\n",
    "import numpy as np"
   ]
  },
  {
   "cell_type": "code",
   "execution_count": 4,
   "id": "793249b7",
   "metadata": {},
   "outputs": [],
   "source": [
    "# Astropy Imports\n",
    "from astropy import units as u\n",
    "from astropy.io import fits\n",
    "from astropy.wcs import WCS\n",
    "from astropy.table import Table, QTable, Column, vstack\n",
    "from astropy.coordinates import SkyCoord\n",
    "\n",
    "# Astroquery Imports\n",
    "from astroquery.mast import Observations\n",
    "\n",
    "# Regions\n",
    "from regions import Regions\n",
    "\n",
    "# PhotUtils\n",
    "from photutils.aperture import ApertureStats, SkyCircularAperture as SkyCA\n",
    "from photutils.background import Background2D"
   ]
  },
  {
   "cell_type": "markdown",
   "id": "83edfb88",
   "metadata": {},
   "source": [
    "## Typing"
   ]
  },
  {
   "cell_type": "code",
   "execution_count": 5,
   "id": "06a3c87e",
   "metadata": {},
   "outputs": [],
   "source": [
    "PathLike = Union[str, Path]"
   ]
  },
  {
   "cell_type": "markdown",
   "id": "8c79d34f",
   "metadata": {},
   "source": [
    "## Functions"
   ]
  },
  {
   "cell_type": "code",
   "execution_count": null,
   "id": "39b691a5",
   "metadata": {},
   "outputs": [],
   "source": []
  },
  {
   "cell_type": "markdown",
   "id": "7ccb42fa",
   "metadata": {},
   "source": [
    "## Classes\n",
    "\n",
    "This is where the magic happens. Each of these Python classes have basic functionality to streamline the process.\n",
    "\n",
    "- `ImageSpecification`: This is a way to standardize the telescope, instrument, detector, and filter that is to be used.\n",
    "- `ExtendedRegions`: This extends the `regions.Regions` class to add some functionality to streamline the process.\n",
    "- `ImageGetter`: This is what looks at the region files and downloads the associated image files.\n",
    "- `RegionCataloger`: This takes the images and regions and calculates the photometry on each."
   ]
  },
  {
   "cell_type": "code",
   "execution_count": 6,
   "id": "49ba43ef",
   "metadata": {},
   "outputs": [],
   "source": [
    "# Image Type Class\n",
    "class ImageSpecification:\n",
    "    \"\"\"Class to keep the image type associted with a space telescope.\"\"\"\n",
    "\n",
    "    # Class Constructor\n",
    "    def __init__(\n",
    "            self, telescope: str, instrument: str, detector: str, filter: str,\n",
    "            base_path: PathLike = Path('.')\n",
    "        ):\n",
    "        \"\"\"Initializes the ImageSpecification with telescope, instrument, detector, and filter.\"\"\"\n",
    "        self.telescope = telescope\n",
    "        self.instrument = instrument\n",
    "        self.detector = detector\n",
    "        self.filter = filter\n",
    "        self.base_path = Path(base_path)\n",
    "\n",
    "    # Default Representation\n",
    "    def __repr__(self):\n",
    "        \"\"\"Returns a string representation of the ImageSpecification.\"\"\"\n",
    "        return f\"{self.telescope}-{self.instrument}-{self.detector}-{self.filter}\"\n",
    "\n",
    "    # String Representation\n",
    "    def __str__(self):\n",
    "        \"\"\"Returns a string representation of the ImageSpecification.\"\"\"\n",
    "        return self.__repr__()\n",
    "\n",
    "    # Hash Function\n",
    "    def __hash__(self):\n",
    "        \"\"\"Returns a hash of the ImageSpecification.\"\"\"\n",
    "        return hash((self.telescope, self.instrument, self.detector, self.filter))\n",
    "\n",
    "    # Make Directory\n",
    "    def make_directory(self) -> NoReturn:\n",
    "        \"\"\"Creates a directory for the image type.\"\"\"\n",
    "\n",
    "        # Create the directory if it does not exist\n",
    "        self.cache_path.mkdir(parents=True, exist_ok=True)\n",
    "\n",
    "    # Get the MAST Instrument\n",
    "    @property\n",
    "    def mast_instrument(self) -> str:\n",
    "        \"\"\"Returns the MAST instrument name.\"\"\"\n",
    "        return f\"{self.instrument}/{self.detector}\"\n",
    "\n",
    "    # Get the Cache Directory\n",
    "    @property\n",
    "    @lru_cache(maxsize=1)\n",
    "    def cache_path(self) -> Path:\n",
    "        \"\"\"Returns the cache directory for the image type.\"\"\"\n",
    "        cache_dir = self.base_path / self.telescope / self.instrument / self.detector / self.filter\n",
    "        return cache_dir\n",
    "\n",
    "    # From FITS Header\n",
    "    @classmethod\n",
    "    def from_header(cls, header : fits.Header) -> 'ImageSpecification':\n",
    "        \"\"\"Creates an ImageSpecification from a FITS header.\"\"\"\n",
    "\n",
    "        # Get the Filter Set\n",
    "        filtSet = set([\n",
    "            header.get('FILTER'),\n",
    "            header.get('FILTER1'),\n",
    "            header.get('FILTER2')\n",
    "        ])\n",
    "        filters = [filt for filt in filtSet if filt is not None and not 'clear' in filt.lower()]\n",
    "\n",
    "        # Return the ImageSpecification\n",
    "        return cls(\n",
    "            telescope=header.get('TELESCOP'),\n",
    "            instrument=header.get('INSTRUME'),\n",
    "            detector=header.get('DETECTOR'),\n",
    "            filter='-'.join(filters)\n",
    "        )\n",
    "\n",
    "    # From a FITS File\n",
    "    @classmethod\n",
    "    def from_fits(cls, fits_file: PathLike) -> 'ImageSpecification':\n",
    "        \"\"\"Creates an ImageSpecification from a FITS file.\"\"\"\n",
    "        return cls.from_header(fits.getheader(fits_file, ext=0))\n",
    "\n",
    "    # From String\n",
    "    @classmethod\n",
    "    def from_string(cls, img_type_str: str) -> 'ImageSpecification':\n",
    "        \"\"\"Creates an ImageSpecification from a string (presumably in the format\n",
    "        'Telescope-Instrument-Detector-Filter').\n",
    "        \"\"\"\n",
    "\n",
    "        # Split the string and validate the parts\n",
    "        parts = img_type_str.split('-')\n",
    "        if len(parts) != 4:\n",
    "            raise ValueError(\"Image type string must be in the format 'Telescope-Instrument-Detector-Filter'\")\n",
    "        return cls(*parts)"
   ]
  },
  {
   "cell_type": "code",
   "execution_count": 7,
   "id": "b6ac626c",
   "metadata": {},
   "outputs": [],
   "source": [
    "# Extending the default Regions class to handle SkyCoord more easily\n",
    "class ExtendedRegions(Regions):\n",
    "    \"\"\"Extends the Regions class for easier SkyCoord handling.\"\"\"\n",
    "\n",
    "    # Have to Call the Parent Read Method due to the RegionsRegistry\n",
    "    @classmethod\n",
    "    def read(\n",
    "        cls, filename: PathLike, format: str=None, cache: bool=False, **kwargs\n",
    "    ) -> 'ExtendedRegions':\n",
    "        \"\"\"Reads regions from a file and returns an ExtendedRegions object.\"\"\"\n",
    "\n",
    "        # Read the regions using the parent class method\n",
    "        regions = Regions.read(filename, format=format, cache=cache, **kwargs)\n",
    "\n",
    "        # Return an instance of ExtendedRegions\n",
    "        return cls(regions)\n",
    "\n",
    "    # Make a Getter for the Coordinates\n",
    "    @property\n",
    "    @lru_cache\n",
    "    def coordinates(self) -> SkyCoord:\n",
    "        \"\"\"Returns the SkyCoord object of the regions.\"\"\"\n",
    "        return SkyCoord(\n",
    "            [reg.center for reg in self]\n",
    "        )\n",
    "\n",
    "    # Calculate the Center and Extent of the Regions\n",
    "    def get_center_and_extent(\n",
    "            self, extentAdd : u.Quantity=10*u.arcsec\n",
    "            ) -> tuple[SkyCoord, u.Quantity]:\n",
    "        \"\"\"Calculates the center and extent of the regions.\"\"\"\n",
    "\n",
    "        # Get the Center\n",
    "        center = SkyCoord(\n",
    "            ra=self.coordinates.ra.mean(),\n",
    "            dec=self.coordinates.dec.mean(),\n",
    "            frame=self.coordinates.frame\n",
    "        )\n",
    "\n",
    "        # Get the Extent (Max Sep)\n",
    "        extent = center.separation(self.coordinates).max().to(u.arcmin)\n",
    "\n",
    "        # Return the Center and Extent\n",
    "        return center, extent + extentAdd"
   ]
  },
  {
   "cell_type": "code",
   "execution_count": 8,
   "id": "0b75229d",
   "metadata": {},
   "outputs": [],
   "source": [
    "# Image Getter Class\n",
    "ImageSpecTypes = Union[ImageSpecification, Iterable[ImageSpecification]]\n",
    "class ImageGetter:\n",
    "\n",
    "    # Constructor\n",
    "    def __init__(self, img_types: ImageSpecTypes):\n",
    "        \"\"\"Initializes the ImageGetter with an image type and base path.\"\"\"\n",
    "        self.img_types = list(img_types)\n",
    "\n",
    "    # Download the Images\n",
    "    def download_images(\n",
    "            self, regions: ExtendedRegions, cache: bool = True\n",
    "        ) -> dict[ImageSpecification, Union[Table, None]]:\n",
    "        \"\"\"Downloads images for the specified regions and image types.\"\"\"\n",
    "\n",
    "        # Get the Center and Extent of the Regions\n",
    "        center, extent = regions.get_center_and_extent()\n",
    "\n",
    "        # Query MAST for Observations\n",
    "        obs_table = Observations.query_region(\n",
    "            center, radius=extent\n",
    "        )\n",
    "\n",
    "        # Loop through each Image Type\n",
    "        responses = {}\n",
    "        for img_type in tqdm(self.img_types, desc=\"Downloading Images for Each Filter\"):\n",
    "\n",
    "            # Make the Directory\n",
    "            img_type.make_directory()\n",
    "\n",
    "            # Filter the Observations\n",
    "            # https://masttest.stsci.edu/api/v0/_productsfields.html\n",
    "            filt_table = Observations.filter_products(\n",
    "                obs_table,\n",
    "                intentType='science',\n",
    "                obs_collection=img_type.telescope,\n",
    "                instrument_name=img_type.mast_instrument,\n",
    "                filters=img_type.filter,\n",
    "                calib_level=[3],\n",
    "                project='HAP',\n",
    "                provenance_name=['HAP-SVM'],\n",
    "                dataproduct_type='image'\n",
    "            )\n",
    "\n",
    "            # Download the Images\n",
    "            # https://mast.stsci.edu/api/v0/_c_a_o_mfields.html\n",
    "            if len(filt_table):\n",
    "                responses[img_type] = Observations.download_products(\n",
    "                    filt_table['obsid'], download_dir=img_type.cache_path,\n",
    "                    productSubGroupDescription=['DRC'],\n",
    "                    project='HAP-SVM',\n",
    "                    calib_level=[3],\n",
    "                    flat=True,\n",
    "                    cache=cache\n",
    "                )\n",
    "            else:\n",
    "                responses[img_type] = None\n",
    "\n",
    "        # Return the Responses\n",
    "        return responses"
   ]
  },
  {
   "cell_type": "code",
   "execution_count": 51,
   "id": "a5ab2c24",
   "metadata": {},
   "outputs": [],
   "source": [
    "# Make the Region Cataloger Class\n",
    "class RegionCataloger:\n",
    "    \"\"\"Class to handle the cataloging of regions and downloading images.\"\"\"\n",
    "\n",
    "    # Constructor\n",
    "    def __init__(self, regions: ExtendedRegions, img_types: ImageSpecTypes):\n",
    "        \"\"\"Initializes the RegionCataloger with regions and image types.\"\"\"\n",
    "\n",
    "        # Store the Inputs\n",
    "        self.regions = regions\n",
    "        self.img_types = list(img_types)\n",
    "\n",
    "        # Make an ImageGetter\n",
    "        self.image_getter = ImageGetter(self.img_types)\n",
    "\n",
    "        # Download the Images\n",
    "        self.responses = self._download_images(cache=True)\n",
    "\n",
    "        # Calculate the Photometry\n",
    "        self.photometry = {}\n",
    "        for img_type, response in tqdm(self.responses.items(), desc=\"Calculating Photometry for Each Filter\"):\n",
    "            # Calculate the Photometry for each Image Spec\n",
    "            self.photometry[img_type] = self._calculate_photometry(img_type, response)\n",
    "\n",
    "    # Download Images for Regions\n",
    "    def _download_images(\n",
    "            self, cache: bool = True\n",
    "        ) -> dict[ImageSpecification, Union[Table, None]]:\n",
    "        \"\"\"Calls the ImageGetter to download images for the specified regions.\"\"\"\n",
    "        return self.image_getter.download_images(self.regions, cache=cache)\n",
    "\n",
    "    # Calculate Photometry for a given Image Type\n",
    "    def _calculate_photometry(\n",
    "            self, img_type: ImageSpecification, response: Union[Table, None]\n",
    "        ) -> Union[QTable, None]:\n",
    "        \"\"\"Calculates the photometry for a given image type.\"\"\"\n",
    "\n",
    "        # If no response, return None\n",
    "        if response is None:\n",
    "            return None\n",
    "        else:\n",
    "            # Calculate the Photometry by Calling Photutils\n",
    "            return self._aperture_photometry(img_type, response)\n",
    "\n",
    "    # Call Photutils to Calculate the Photometry\n",
    "    def _aperture_photometry(\n",
    "            self, img_type: ImageSpecification, response: Table\n",
    "        ) -> QTable:\n",
    "        \"\"\"Calculates the aperture photometry for a given image type.\"\"\"\n",
    "\n",
    "        # Get Regions Centroid\n",
    "        center = self.regions.get_center_and_extent()[0]\n",
    "\n",
    "        # Get Region IDs\n",
    "        ids = [reg.meta.get('text', str(i)) for i, reg in enumerate(self.regions)]\n",
    "        ids = Column(ids, name='id')\n",
    "\n",
    "        # Loop through the Possible Images\n",
    "        photTables = []\n",
    "        for fileName in tqdm(response['Local Path'], desc=f\"Processing {img_type} Images\", leave=False):\n",
    "\n",
    "            # Open the Image\n",
    "            with fits.open(fileName) as hdul:\n",
    "                image_data = hdul['SCI'].data\n",
    "                header = hdul['SCI'].header\n",
    "                wcs = WCS(header)\n",
    "\n",
    "            # If the WCS does not contain the Regions, continue\n",
    "            if not wcs.footprint_contains(center):\n",
    "                sleep(1e-6)\n",
    "                continue\n",
    "\n",
    "            # Get the Background\n",
    "            with catch_warnings():\n",
    "                simplefilter(\"ignore\")\n",
    "                bkg = Background2D(image_data, (64, 64), filter_size=(3, 3))\n",
    "\n",
    "            # Loop over Regions\n",
    "            stats = []\n",
    "            for reg in tqdm(self.regions, desc=f\"Processing Regions for {Path(fileName).name}\", leave=False):\n",
    "\n",
    "                # Get the Aperture\n",
    "                aper = SkyCA(reg.center, r=reg.radius)\n",
    "\n",
    "                # Get the Stats for the Aperture\n",
    "                stats.append(ApertureStats(\n",
    "                    image_data - bkg.background, aper, wcs=wcs\n",
    "                ))\n",
    "\n",
    "            # Convert the Stats to a QTable\n",
    "            statsTable = QTable(vstack(\n",
    "                [stat.to_table(columns=[\n",
    "                    'id', 'xcentroid', 'ycentroid', 'sky_centroid',\n",
    "                    'sum', 'sum_aper_area'\n",
    "                ]) for stat in stats],\n",
    "                metadata_conflicts='silent'\n",
    "            ))\n",
    "\n",
    "            # Convert Area to arcsec2\n",
    "            pixScale = wcs.proj_plane_pixel_scales()[0] / u.pix\n",
    "            statsTable['sum_aper_area']  *= pixScale**2\n",
    "            statsTable['sum_aper_area'] <<= u.arcsec**2\n",
    "\n",
    "            # Convert Sky Centroid to Sexagesimal\n",
    "            statsTable['sky_centroid'] = statsTable['sky_centroid'].to_string(\n",
    "                decimal=False, sep=':', precision=8\n",
    "            )\n",
    "\n",
    "            # Store Table\n",
    "            photTables.append(statsTable)\n",
    "\n",
    "        # If there is only one table, get it. Otherwise, get the means\n",
    "        if len(photTables) == 1:\n",
    "            photTable = photTables[0]\n",
    "        elif len(photTables) == 0:\n",
    "            photTable = QTable()\n",
    "        else:\n",
    "            # Get first table as a base\n",
    "            photTable = photTables[0].copy()\n",
    "\n",
    "            # Get the Mean of Each Column\n",
    "            # This is overkill as some columns will have the same data in each\n",
    "            # but its easier to just do this\n",
    "            with catch_warnings():\n",
    "                simplefilter(\"ignore\")  # Ignore where columns are NaN everywhere (like error cols)\n",
    "                for col in photTable.colnames:\n",
    "                    if col == 'id':\n",
    "                        continue\n",
    "                    photTable[col] = np.nanmean(\n",
    "                        [table[col] for table in photTables],\n",
    "                        axis=0\n",
    "                    )\n",
    "\n",
    "        # Add the IDs\n",
    "        photTable['id'] = ids\n",
    "\n",
    "        # Calculate the Aperture Photometry by Calling Photutils\n",
    "        return photTable\n",
    "\n",
    "    # Get the AB Zeropoint\n",
    "    @staticmethod\n",
    "    def get_ab_zeropoint(\n",
    "            photflam: float, photplam:float\n",
    "    ) -> u.Quantity:\n",
    "        \"\"\"Calculates the AB Zeropoint from photflam and photplam.\"\"\"\n",
    "\n",
    "        # Calculate the Zeropoint\n",
    "        zeropoint = -2.5*np.log10(photflam) - 5*np.log10(photplam) - 2.408\n",
    "\n",
    "        # Return the Zeropoint in AB Magnitudes\n",
    "        return zeropoint * u.ABmag"
   ]
  },
  {
   "cell_type": "markdown",
   "id": "43fb4cdd",
   "metadata": {},
   "source": [
    "## The Catalog\n",
    "\n",
    "<div class=\"alert alert-block alert-success\"><b>Note:</b> The cell below is the only cell you should need to change. Likely, the `ImageSpecifications` will be the same for your entire project. Therefore, after you add the new region file to your directory, you will need to indicate the new file name below. That is, you will need to change what is passed to the `REGION_FILE_NAME`.</div>"
   ]
  },
  {
   "cell_type": "code",
   "execution_count": 52,
   "id": "8884db65",
   "metadata": {},
   "outputs": [],
   "source": [
    "# Default Image Specifications\n",
    "DEF_IMG_SPECS = [\n",
    "    ImageSpecification('HST', 'WFC3', 'UVIS', 'F336W'),\n",
    "    ImageSpecification('HST', 'ACS', 'WFC', 'F475W'),\n",
    "    ImageSpecification('HST', 'ACS', 'WFC', 'F814W')\n",
    "]\n",
    "\n",
    "# Region File Name\n",
    "REGION_FILE_NAME = 'ExampleRegions.reg'"
   ]
  },
  {
   "cell_type": "code",
   "execution_count": 53,
   "id": "cd7d1609",
   "metadata": {},
   "outputs": [],
   "source": [
    "# Load the Regions\n",
    "regs = ExtendedRegions.read(REGION_FILE_NAME)"
   ]
  },
  {
   "cell_type": "code",
   "execution_count": 54,
   "id": "099d9b9b",
   "metadata": {},
   "outputs": [
    {
     "data": {
      "application/vnd.jupyter.widget-view+json": {
       "model_id": "394b5a32981b491699a84d658b8377b0",
       "version_major": 2,
       "version_minor": 0
      },
      "text/plain": [
       "Downloading Images for Each Filter:   0%|          | 0/3 [00:00<?, ?it/s]"
      ]
     },
     "metadata": {},
     "output_type": "display_data"
    },
    {
     "name": "stdout",
     "output_type": "stream",
     "text": [
      "INFO: Found cached file HST/WFC3/UVIS/F336W/hst_14182_15_wfc3_uvis_f336w_icwr15_drc.fits with expected size 282726720. [astroquery.query]\n",
      "INFO: Found cached file HST/WFC3/UVIS/F336W/hst_14182_16_wfc3_uvis_f336w_icwr16_drc.fits with expected size 282726720. [astroquery.query]\n",
      "INFO: Found cached file HST/WFC3/UVIS/F336W/hst_14182_19_wfc3_uvis_f336w_icwr19_drc.fits with expected size 282726720. [astroquery.query]\n",
      "INFO: Found cached file HST/WFC3/UVIS/F336W/hst_14182_20_wfc3_uvis_f336w_icwr20_drc.fits with expected size 282726720. [astroquery.query]\n",
      "INFO: Found cached file HST/ACS/WFC/F475W/hst_10861_02_acs_wfc_f475w_j9ty02_drc.fits with expected size 306984960. [astroquery.query]\n",
      "INFO: Found cached file HST/ACS/WFC/F475W/hst_10861_03_acs_wfc_f475w_j9ty03_drc.fits with expected size 312134400. [astroquery.query]\n",
      "INFO: Found cached file HST/ACS/WFC/F475W/hst_10861_09_acs_wfc_f475w_j9ty09_drc.fits with expected size 307105920. [astroquery.query]\n",
      "INFO: Found cached file HST/ACS/WFC/F475W/hst_14182_16_acs_wfc_f475w_jcwr16_drc.fits with expected size 445901760. [astroquery.query]\n",
      "INFO: Found cached file HST/ACS/WFC/F814W/hst_10861_02_acs_wfc_f814w_j9ty02_drc.fits with expected size 306984960. [astroquery.query]\n",
      "INFO: Found cached file HST/ACS/WFC/F814W/hst_10861_03_acs_wfc_f814w_j9ty03_drc.fits with expected size 312134400. [astroquery.query]\n",
      "INFO: Found cached file HST/ACS/WFC/F814W/hst_10861_09_acs_wfc_f814w_j9ty09_drc.fits with expected size 307105920. [astroquery.query]\n",
      "INFO: Found cached file HST/ACS/WFC/F814W/hst_14182_16_acs_wfc_f814w_jcwr16_drc.fits with expected size 445887360. [astroquery.query]\n"
     ]
    },
    {
     "data": {
      "application/vnd.jupyter.widget-view+json": {
       "model_id": "20fdd23ac5c842c2ad6aecbbac0faeed",
       "version_major": 2,
       "version_minor": 0
      },
      "text/plain": [
       "Calculating Photometry for Each Filter:   0%|          | 0/3 [00:00<?, ?it/s]"
      ]
     },
     "metadata": {},
     "output_type": "display_data"
    },
    {
     "data": {
      "application/vnd.jupyter.widget-view+json": {
       "model_id": "6030788908554271ab8f3495fe3f141d",
       "version_major": 2,
       "version_minor": 0
      },
      "text/plain": [
       "Processing HST-WFC3-UVIS-F336W Images:   0%|          | 0/4 [00:00<?, ?it/s]"
      ]
     },
     "metadata": {},
     "output_type": "display_data"
    },
    {
     "data": {
      "application/vnd.jupyter.widget-view+json": {
       "model_id": "9ece280402554428a4043ef9b30eb367",
       "version_major": 2,
       "version_minor": 0
      },
      "text/plain": [
       "Processing Regions for hst_14182_20_wfc3_uvis_f336w_icwr20_drc.fits:   0%|          | 0/7 [00:00<?, ?it/s]"
      ]
     },
     "metadata": {},
     "output_type": "display_data"
    },
    {
     "data": {
      "application/vnd.jupyter.widget-view+json": {
       "model_id": "f9d7713b20c640fe934a782fe1aa9149",
       "version_major": 2,
       "version_minor": 0
      },
      "text/plain": [
       "Processing HST-ACS-WFC-F475W Images:   0%|          | 0/4 [00:00<?, ?it/s]"
      ]
     },
     "metadata": {},
     "output_type": "display_data"
    },
    {
     "data": {
      "application/vnd.jupyter.widget-view+json": {
       "model_id": "466d86a53e1d4e0bb60c411cad163a97",
       "version_major": 2,
       "version_minor": 0
      },
      "text/plain": [
       "Processing Regions for hst_10861_02_acs_wfc_f475w_j9ty02_drc.fits:   0%|          | 0/7 [00:00<?, ?it/s]"
      ]
     },
     "metadata": {},
     "output_type": "display_data"
    },
    {
     "data": {
      "application/vnd.jupyter.widget-view+json": {
       "model_id": "2d2b697e7edf4d629603e2133a21e5b1",
       "version_major": 2,
       "version_minor": 0
      },
      "text/plain": [
       "Processing HST-ACS-WFC-F814W Images:   0%|          | 0/4 [00:00<?, ?it/s]"
      ]
     },
     "metadata": {},
     "output_type": "display_data"
    },
    {
     "data": {
      "application/vnd.jupyter.widget-view+json": {
       "model_id": "9523405fb87046f38bd5dc27f111da13",
       "version_major": 2,
       "version_minor": 0
      },
      "text/plain": [
       "Processing Regions for hst_10861_02_acs_wfc_f814w_j9ty02_drc.fits:   0%|          | 0/7 [00:00<?, ?it/s]"
      ]
     },
     "metadata": {},
     "output_type": "display_data"
    }
   ],
   "source": [
    "# Get the catalogs for the Image Types and Regions\n",
    "catalogs = RegionCataloger(regs, DEF_IMG_SPECS)"
   ]
  },
  {
   "cell_type": "markdown",
   "id": "353c51e7",
   "metadata": {},
   "source": [
    "### Display the Catalogs"
   ]
  },
  {
   "cell_type": "code",
   "execution_count": 55,
   "id": "e62f16c4",
   "metadata": {},
   "outputs": [
    {
     "name": "stdout",
     "output_type": "stream",
     "text": [
      "Photometry for HST-WFC3-UVIS-F336W\n",
      " id     xcentroid          ycentroid                  sky_centroid                    sum           sum_aper_area   \n",
      "                                                                                                       arcsec2      \n",
      "--- ------------------ ------------------ ------------------------------------ ------------------ ------------------\n",
      "  A  902.0656086955607 1947.2414647035516 195:08:09.38521667 28:03:31.43999625 13.602761052406429 165.90529088485636\n",
      "  C 1456.4450761701255 1475.6869635522148 195:07:44.49330357 28:03:12.75968815 3.6081527649137675  20.92791324682017\n",
      "  E 2589.4542283572673  1749.397438619467 195:06:53.62686322 28:03:23.60569804  7.587032591838318  73.71538850084968\n",
      "  F 3118.2220747506685 2280.6071687164417 195:06:29.88547197 28:03:44.65119274 11.766401937490405  67.05541179199317\n",
      "  G  2833.452586310629  3950.917682302877 195:06:42.66763202 28:04:50.82959323 2.5740665639977056  34.94150632297272\n",
      "  B 280.87612418299767 3875.6660584264114 195:08:37.29324622 28:04:47.83968597 4.8434082071226925 17.158030358175925\n",
      "  D 1827.1919820667613 2658.4444791029214 195:07:27.85167229 28:03:59.62163805 2.0186441017679275 29.378176872672025\n",
      "\n",
      "\n",
      "\n",
      "Photometry for HST-ACS-WFC-F475W\n",
      " id     xcentroid          ycentroid                  sky_centroid                    sum           sum_aper_area  \n",
      "                                                                                                       arcsec2     \n",
      "--- ------------------ ------------------ ------------------------------------ ------------------ -----------------\n",
      "  A  2208.428705635913  877.6084863463682 195:08:09.29045898 28:03:31.22696336  193.9554794808729 165.9053267451817\n",
      "  C 2647.0169418860623  513.8479164162258 195:07:44.44060470 28:03:13.03925916  44.57210135356856   20.927920885371\n",
      "  E   3535.45003220945  737.4446404747196 195:06:54.10327751 28:03:24.21593468  131.3158208818775 73.71541722044891\n",
      "  F  3965.168383170022 1149.6903443509877 195:06:29.75184497 28:03:44.82485812 281.07862543343657 67.05543272077327\n",
      "  G  3719.755124062175  2478.033724625637 195:06:43.64582022 28:04:51.24408505  53.37439509721074 34.94150321623539\n",
      "  B 1710.5143535308853 2415.8663605274983 195:08:37.51133655 28:04:48.13798040  44.37296538806209 17.15802575595291\n",
      "  D  2939.694582568152 1471.1198674713407 195:07:27.85565462 28:04:00.90237250  52.50454982303316 29.37818040128553\n",
      "\n",
      "\n",
      "\n",
      "Photometry for HST-ACS-WFC-F814W\n",
      " id     xcentroid          ycentroid                  sky_centroid                    sum           sum_aper_area  \n",
      "                                                                                                       arcsec2     \n",
      "--- ------------------ ------------------ ------------------------------------ ------------------ -----------------\n",
      "  A  2209.856815950407  880.0522667652643 195:08:09.20954907 28:03:31.34915542  482.7109583335958 165.9053267451817\n",
      "  C  2646.229470027853  514.5696510828046 195:07:44.48521971 28:03:13.07534642 103.29770254263286   20.927920885371\n",
      "  E 3535.0375279203568  737.0555291871839 195:06:54.12665215 28:03:24.19648177    279.78776998109 73.71541722044891\n",
      "  F  3964.720713656334 1149.1481540866293 195:06:29.77721619 28:03:44.79775273  698.6662913555609 67.05543272077327\n",
      "  G 3720.1406891433435  2476.555043297286 195:06:43.62398260 28:04:51.17014804 118.98251110831912 34.94150321623539\n",
      "  B 1710.7419743028984 2416.2087413712748 195:08:37.49843921 28:04:48.15510066 169.76281128336868 17.15802575595291\n",
      "  D 2938.9854312413104 1471.2349249394024 195:07:27.89583744 28:04:00.90812720 111.41640512535601 29.37818040128553\n",
      "\n",
      "\n",
      "\n"
     ]
    }
   ],
   "source": [
    "# Display the Catalogs\n",
    "for img_spec, phot_table in catalogs.photometry.items():\n",
    "    if phot_table is not None:\n",
    "        print(f\"Photometry for {img_spec}\")\n",
    "        phot_table.pprint_all(show_unit=True)\n",
    "        print('\\n\\n')\n",
    "    else:\n",
    "        print(f\"No photometry data available for {img_spec}\")"
   ]
  },
  {
   "cell_type": "code",
   "execution_count": 43,
   "id": "814a1875",
   "metadata": {},
   "outputs": [],
   "source": [
    "tmp = phot_table['sky_centroid']"
   ]
  },
  {
   "cell_type": "code",
   "execution_count": 37,
   "id": "8082c5f3",
   "metadata": {},
   "outputs": [
    {
     "data": {
      "text/plain": [
       "['195:08:09.20954907 28:03:31.34915542',\n",
       " '195:07:44.48521971 28:03:13.07534642',\n",
       " '195:06:54.12665215 28:03:24.19648177',\n",
       " '195:06:29.77721619 28:03:44.79775273',\n",
       " '195:06:43.62398260 28:04:51.17014804',\n",
       " '195:08:37.49843921 28:04:48.15510066',\n",
       " '195:07:27.89583744 28:04:00.90812720']"
      ]
     },
     "execution_count": 37,
     "metadata": {},
     "output_type": "execute_result"
    }
   ],
   "source": [
    "tmp.to_string(decimal=False, sep=':', precision=8)"
   ]
  },
  {
   "cell_type": "code",
   "execution_count": null,
   "id": "1e01e2e7",
   "metadata": {},
   "outputs": [],
   "source": []
  }
 ],
 "metadata": {
  "kernelspec": {
   "display_name": "stenv",
   "language": "python",
   "name": "python3"
  },
  "language_info": {
   "codemirror_mode": {
    "name": "ipython",
    "version": 3
   },
   "file_extension": ".py",
   "mimetype": "text/x-python",
   "name": "python",
   "nbconvert_exporter": "python",
   "pygments_lexer": "ipython3",
   "version": "3.12.7"
  }
 },
 "nbformat": 4,
 "nbformat_minor": 5
}
